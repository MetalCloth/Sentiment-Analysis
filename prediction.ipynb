{
 "cells": [
  {
   "cell_type": "code",
   "execution_count": 4,
   "metadata": {},
   "outputs": [],
   "source": [
    "import numpy as np\n",
    "import pandas as pd\n",
    "import tensorflow as tf\n",
    "from tensorflow.keras.datasets import imdb\n",
    "from tensorflow.keras.models import Sequential,load_model\n",
    "from tensorflow.keras.layers import Embedding,SimpleRNN,Dense\n",
    "from tensorflow.keras.utils import pad_sequences\n",
    "from tensorflow.keras.preprocessing import sequence"
   ]
  },
  {
   "cell_type": "code",
   "execution_count": 8,
   "metadata": {},
   "outputs": [],
   "source": [
    "word_index=imdb.get_word_index()\n",
    "reverse_word_index=dict([(value,key) for (key,value) in word_index.items()])"
   ]
  },
  {
   "cell_type": "code",
   "execution_count": 5,
   "metadata": {},
   "outputs": [
    {
     "name": "stderr",
     "output_type": "stream",
     "text": [
      "WARNING:absl:Compiled the loaded model, but the compiled metrics have yet to be built. `model.compile_metrics` will be empty until you train or evaluate the model.\n"
     ]
    }
   ],
   "source": [
    "file=load_model('p.h5')"
   ]
  },
  {
   "cell_type": "code",
   "execution_count": 6,
   "metadata": {},
   "outputs": [
    {
     "data": {
      "text/html": [
       "<pre style=\"white-space:pre;overflow-x:auto;line-height:normal;font-family:Menlo,'DejaVu Sans Mono',consolas,'Courier New',monospace\"><span style=\"font-weight: bold\">Model: \"sequential_2\"</span>\n",
       "</pre>\n"
      ],
      "text/plain": [
       "\u001b[1mModel: \"sequential_2\"\u001b[0m\n"
      ]
     },
     "metadata": {},
     "output_type": "display_data"
    },
    {
     "data": {
      "text/html": [
       "<pre style=\"white-space:pre;overflow-x:auto;line-height:normal;font-family:Menlo,'DejaVu Sans Mono',consolas,'Courier New',monospace\">┏━━━━━━━━━━━━━━━━━━━━━━━━━━━━━━━━━┳━━━━━━━━━━━━━━━━━━━━━━━━┳━━━━━━━━━━━━━━━┓\n",
       "┃<span style=\"font-weight: bold\"> Layer (type)                    </span>┃<span style=\"font-weight: bold\"> Output Shape           </span>┃<span style=\"font-weight: bold\">       Param # </span>┃\n",
       "┡━━━━━━━━━━━━━━━━━━━━━━━━━━━━━━━━━╇━━━━━━━━━━━━━━━━━━━━━━━━╇━━━━━━━━━━━━━━━┩\n",
       "│ embedding_2 (<span style=\"color: #0087ff; text-decoration-color: #0087ff\">Embedding</span>)         │ (<span style=\"color: #00af00; text-decoration-color: #00af00\">32</span>, <span style=\"color: #00af00; text-decoration-color: #00af00\">500</span>, <span style=\"color: #00af00; text-decoration-color: #00af00\">128</span>)         │     <span style=\"color: #00af00; text-decoration-color: #00af00\">1,280,000</span> │\n",
       "├─────────────────────────────────┼────────────────────────┼───────────────┤\n",
       "│ simple_rnn_2 (<span style=\"color: #0087ff; text-decoration-color: #0087ff\">SimpleRNN</span>)        │ (<span style=\"color: #00af00; text-decoration-color: #00af00\">32</span>, <span style=\"color: #00af00; text-decoration-color: #00af00\">128</span>)              │        <span style=\"color: #00af00; text-decoration-color: #00af00\">32,896</span> │\n",
       "├─────────────────────────────────┼────────────────────────┼───────────────┤\n",
       "│ dense_2 (<span style=\"color: #0087ff; text-decoration-color: #0087ff\">Dense</span>)                 │ (<span style=\"color: #00af00; text-decoration-color: #00af00\">32</span>, <span style=\"color: #00af00; text-decoration-color: #00af00\">1</span>)                │           <span style=\"color: #00af00; text-decoration-color: #00af00\">129</span> │\n",
       "└─────────────────────────────────┴────────────────────────┴───────────────┘\n",
       "</pre>\n"
      ],
      "text/plain": [
       "┏━━━━━━━━━━━━━━━━━━━━━━━━━━━━━━━━━┳━━━━━━━━━━━━━━━━━━━━━━━━┳━━━━━━━━━━━━━━━┓\n",
       "┃\u001b[1m \u001b[0m\u001b[1mLayer (type)                   \u001b[0m\u001b[1m \u001b[0m┃\u001b[1m \u001b[0m\u001b[1mOutput Shape          \u001b[0m\u001b[1m \u001b[0m┃\u001b[1m \u001b[0m\u001b[1m      Param #\u001b[0m\u001b[1m \u001b[0m┃\n",
       "┡━━━━━━━━━━━━━━━━━━━━━━━━━━━━━━━━━╇━━━━━━━━━━━━━━━━━━━━━━━━╇━━━━━━━━━━━━━━━┩\n",
       "│ embedding_2 (\u001b[38;5;33mEmbedding\u001b[0m)         │ (\u001b[38;5;34m32\u001b[0m, \u001b[38;5;34m500\u001b[0m, \u001b[38;5;34m128\u001b[0m)         │     \u001b[38;5;34m1,280,000\u001b[0m │\n",
       "├─────────────────────────────────┼────────────────────────┼───────────────┤\n",
       "│ simple_rnn_2 (\u001b[38;5;33mSimpleRNN\u001b[0m)        │ (\u001b[38;5;34m32\u001b[0m, \u001b[38;5;34m128\u001b[0m)              │        \u001b[38;5;34m32,896\u001b[0m │\n",
       "├─────────────────────────────────┼────────────────────────┼───────────────┤\n",
       "│ dense_2 (\u001b[38;5;33mDense\u001b[0m)                 │ (\u001b[38;5;34m32\u001b[0m, \u001b[38;5;34m1\u001b[0m)                │           \u001b[38;5;34m129\u001b[0m │\n",
       "└─────────────────────────────────┴────────────────────────┴───────────────┘\n"
      ]
     },
     "metadata": {},
     "output_type": "display_data"
    },
    {
     "data": {
      "text/html": [
       "<pre style=\"white-space:pre;overflow-x:auto;line-height:normal;font-family:Menlo,'DejaVu Sans Mono',consolas,'Courier New',monospace\"><span style=\"font-weight: bold\"> Total params: </span><span style=\"color: #00af00; text-decoration-color: #00af00\">1,313,027</span> (5.01 MB)\n",
       "</pre>\n"
      ],
      "text/plain": [
       "\u001b[1m Total params: \u001b[0m\u001b[38;5;34m1,313,027\u001b[0m (5.01 MB)\n"
      ]
     },
     "metadata": {},
     "output_type": "display_data"
    },
    {
     "data": {
      "text/html": [
       "<pre style=\"white-space:pre;overflow-x:auto;line-height:normal;font-family:Menlo,'DejaVu Sans Mono',consolas,'Courier New',monospace\"><span style=\"font-weight: bold\"> Trainable params: </span><span style=\"color: #00af00; text-decoration-color: #00af00\">1,313,025</span> (5.01 MB)\n",
       "</pre>\n"
      ],
      "text/plain": [
       "\u001b[1m Trainable params: \u001b[0m\u001b[38;5;34m1,313,025\u001b[0m (5.01 MB)\n"
      ]
     },
     "metadata": {},
     "output_type": "display_data"
    },
    {
     "data": {
      "text/html": [
       "<pre style=\"white-space:pre;overflow-x:auto;line-height:normal;font-family:Menlo,'DejaVu Sans Mono',consolas,'Courier New',monospace\"><span style=\"font-weight: bold\"> Non-trainable params: </span><span style=\"color: #00af00; text-decoration-color: #00af00\">0</span> (0.00 B)\n",
       "</pre>\n"
      ],
      "text/plain": [
       "\u001b[1m Non-trainable params: \u001b[0m\u001b[38;5;34m0\u001b[0m (0.00 B)\n"
      ]
     },
     "metadata": {},
     "output_type": "display_data"
    },
    {
     "data": {
      "text/html": [
       "<pre style=\"white-space:pre;overflow-x:auto;line-height:normal;font-family:Menlo,'DejaVu Sans Mono',consolas,'Courier New',monospace\"><span style=\"font-weight: bold\"> Optimizer params: </span><span style=\"color: #00af00; text-decoration-color: #00af00\">2</span> (12.00 B)\n",
       "</pre>\n"
      ],
      "text/plain": [
       "\u001b[1m Optimizer params: \u001b[0m\u001b[38;5;34m2\u001b[0m (12.00 B)\n"
      ]
     },
     "metadata": {},
     "output_type": "display_data"
    }
   ],
   "source": [
    "file.summary()"
   ]
  },
  {
   "cell_type": "code",
   "execution_count": 7,
   "metadata": {},
   "outputs": [
    {
     "data": {
      "text/plain": [
       "[array([[ 0.12576786,  0.14871103, -0.00744926, ..., -0.01384398,\n",
       "          0.0843525 , -0.09928808],\n",
       "        [ 0.00670839,  0.07233979, -0.01360502, ..., -0.04576615,\n",
       "          0.02543658, -0.13461922],\n",
       "        [ 0.02574245,  0.0977883 ,  0.07138874, ...,  0.03207164,\n",
       "          0.09406752,  0.03976075],\n",
       "        ...,\n",
       "        [ 0.02185449, -0.02045828,  0.00420898, ...,  0.03316063,\n",
       "          0.06209946, -0.01151959],\n",
       "        [-0.03281631,  0.03015067, -0.0292375 , ..., -0.04262495,\n",
       "         -0.02706656, -0.03513194],\n",
       "        [ 0.02171488, -0.02423255,  0.01944871, ...,  0.03037199,\n",
       "         -0.04576456,  0.03412073]], dtype=float32),\n",
       " array([[ 0.16660784, -0.06110479,  0.13973962, ..., -0.06952184,\n",
       "         -0.05007058,  0.04575584],\n",
       "        [ 0.09750953, -0.00151007,  0.07127558, ..., -0.13195875,\n",
       "         -0.00482553, -0.15431365],\n",
       "        [ 0.01042958, -0.10671915, -0.16872527, ..., -0.01921872,\n",
       "          0.04389102,  0.10486434],\n",
       "        ...,\n",
       "        [-0.12208008, -0.19322008,  0.0794975 , ...,  0.04736167,\n",
       "         -0.00732056,  0.05111381],\n",
       "        [-0.14185563,  0.14962357, -0.2043132 , ..., -0.15103303,\n",
       "         -0.03962665,  0.1418101 ],\n",
       "        [-0.05795221, -0.07010343,  0.16145197, ..., -0.05513997,\n",
       "         -0.12996879,  0.00961126]], dtype=float32),\n",
       " array([[-0.07789452,  0.05710915, -0.0509415 , ...,  0.11077424,\n",
       "          0.03877592, -0.07430732],\n",
       "        [ 0.0086761 , -0.00426361,  0.21284844, ..., -0.0521023 ,\n",
       "          0.1063164 , -0.00760156],\n",
       "        [ 0.01303276,  0.12527381, -0.140824  , ..., -0.05570412,\n",
       "         -0.00186785, -0.18715097],\n",
       "        ...,\n",
       "        [ 0.10461204, -0.05661402, -0.05112949, ...,  0.01603357,\n",
       "         -0.07448164,  0.01026274],\n",
       "        [-0.02888024,  0.00125972, -0.08587151, ...,  0.02989121,\n",
       "         -0.0045827 ,  0.02274652],\n",
       "        [-0.08507579, -0.04945745, -0.05831537, ...,  0.0676753 ,\n",
       "          0.21827444, -0.05431346]], dtype=float32),\n",
       " array([-0.0147397 , -0.01125021,  0.01211962,  0.0060453 , -0.02145173,\n",
       "         0.00255767, -0.00319223,  0.01627502,  0.02048369,  0.00030499,\n",
       "        -0.00198802,  0.00044733, -0.0005261 , -0.00304197, -0.01229711,\n",
       "         0.01420117,  0.00109782, -0.01345936,  0.00986078, -0.0014845 ,\n",
       "        -0.03517167,  0.01347865,  0.00275995,  0.03154578, -0.01942446,\n",
       "         0.00250607,  0.00895802,  0.02149191,  0.0200285 ,  0.00669567,\n",
       "        -0.01150207, -0.01320782, -0.02441142,  0.00109109,  0.01103589,\n",
       "         0.00310818, -0.00835995,  0.00217074, -0.02779863, -0.01753953,\n",
       "        -0.00109813, -0.00974022,  0.011674  ,  0.00695311,  0.01811172,\n",
       "         0.00447393, -0.00030801, -0.013421  ,  0.01093252, -0.00202674,\n",
       "        -0.02929496, -0.04039014,  0.00853828, -0.02381939,  0.010369  ,\n",
       "         0.01122595,  0.00760041, -0.02075516,  0.01881252, -0.01421071,\n",
       "        -0.04477211, -0.01915888, -0.00806314, -0.0294923 ,  0.00142048,\n",
       "         0.01382084, -0.0126429 , -0.00806588, -0.03729292, -0.0010304 ,\n",
       "        -0.01901918,  0.0207481 , -0.00922563,  0.01875942, -0.01111483,\n",
       "         0.0134007 , -0.00251105,  0.01519487, -0.03431663,  0.00044665,\n",
       "        -0.00711019,  0.00412665, -0.025362  ,  0.00386613,  0.00631374,\n",
       "        -0.01861471,  0.0090702 , -0.00988364, -0.0096754 , -0.01229109,\n",
       "        -0.02814137, -0.02944702, -0.00938082, -0.00342439,  0.0005908 ,\n",
       "         0.01039426, -0.03871265, -0.00951826, -0.00837538, -0.00345784,\n",
       "         0.01394118, -0.02122118,  0.01446615, -0.01631407, -0.0185649 ,\n",
       "        -0.01244557,  0.06461506, -0.01815407, -0.00107058,  0.03231988,\n",
       "        -0.01637522, -0.0027172 ,  0.00345566, -0.0110744 , -0.03309605,\n",
       "         0.00796482, -0.0218031 , -0.0213187 , -0.00664607, -0.02840232,\n",
       "         0.01062365,  0.02826584,  0.01457124, -0.02648678, -0.01840837,\n",
       "        -0.02505021, -0.04342876, -0.02172796], dtype=float32),\n",
       " array([[-0.16237158],\n",
       "        [ 0.03088238],\n",
       "        [-0.04407843],\n",
       "        [-0.02937609],\n",
       "        [-0.15222678],\n",
       "        [ 0.07181197],\n",
       "        [-0.02577945],\n",
       "        [ 0.08088546],\n",
       "        [ 0.13525006],\n",
       "        [-0.14408669],\n",
       "        [-0.04390296],\n",
       "        [ 0.26058698],\n",
       "        [-0.090619  ],\n",
       "        [-0.12457425],\n",
       "        [-0.07831521],\n",
       "        [-0.16151464],\n",
       "        [ 0.23383737],\n",
       "        [ 0.2216187 ],\n",
       "        [-0.22416689],\n",
       "        [-0.23662211],\n",
       "        [ 0.1691526 ],\n",
       "        [ 0.12372473],\n",
       "        [-0.07160671],\n",
       "        [ 0.10251576],\n",
       "        [-0.01501914],\n",
       "        [-0.25084558],\n",
       "        [ 0.03897813],\n",
       "        [-0.08500723],\n",
       "        [-0.05523037],\n",
       "        [ 0.1279685 ],\n",
       "        [-0.38856867],\n",
       "        [ 0.18174893],\n",
       "        [ 0.16168462],\n",
       "        [ 0.19242147],\n",
       "        [ 0.13440916],\n",
       "        [-0.11578403],\n",
       "        [-0.02209058],\n",
       "        [-0.23571062],\n",
       "        [-0.02383565],\n",
       "        [-0.19967674],\n",
       "        [-0.08951408],\n",
       "        [-0.16214935],\n",
       "        [-0.05688351],\n",
       "        [-0.17921855],\n",
       "        [ 0.16492628],\n",
       "        [-0.2052626 ],\n",
       "        [-0.35608718],\n",
       "        [-0.05503527],\n",
       "        [-0.5238036 ],\n",
       "        [ 0.07855299],\n",
       "        [ 0.21937984],\n",
       "        [ 0.02236617],\n",
       "        [ 0.00508638],\n",
       "        [-0.0027225 ],\n",
       "        [ 0.15589663],\n",
       "        [-0.00494367],\n",
       "        [-0.03800109],\n",
       "        [ 0.03569621],\n",
       "        [-0.24402843],\n",
       "        [-0.13227898],\n",
       "        [ 0.23452264],\n",
       "        [ 0.1117549 ],\n",
       "        [ 0.09416996],\n",
       "        [ 0.03277957],\n",
       "        [-0.27047792],\n",
       "        [-0.18845886],\n",
       "        [ 0.06355356],\n",
       "        [ 0.23472948],\n",
       "        [-0.01988673],\n",
       "        [-0.12693188],\n",
       "        [ 0.10543969],\n",
       "        [-0.15656699],\n",
       "        [ 0.21689008],\n",
       "        [-0.19084162],\n",
       "        [-0.0029442 ],\n",
       "        [ 0.21682462],\n",
       "        [-0.17061888],\n",
       "        [ 0.12802044],\n",
       "        [ 0.00904003],\n",
       "        [-0.17114705],\n",
       "        [-0.23373228],\n",
       "        [-0.00507532],\n",
       "        [ 0.06093054],\n",
       "        [-0.1164318 ],\n",
       "        [ 0.05311307],\n",
       "        [-0.05265733],\n",
       "        [ 0.2722778 ],\n",
       "        [-0.3637387 ],\n",
       "        [-0.05809831],\n",
       "        [-0.17007951],\n",
       "        [ 0.16070572],\n",
       "        [ 0.07492043],\n",
       "        [-0.15878215],\n",
       "        [ 0.2382059 ],\n",
       "        [-0.08397   ],\n",
       "        [ 0.18952058],\n",
       "        [ 0.17149355],\n",
       "        [ 0.17044169],\n",
       "        [ 0.14484686],\n",
       "        [ 0.18355252],\n",
       "        [ 0.00441819],\n",
       "        [ 0.07821873],\n",
       "        [-0.22169814],\n",
       "        [ 0.18204527],\n",
       "        [-0.159528  ],\n",
       "        [-0.24649265],\n",
       "        [-0.21543097],\n",
       "        [-0.07288516],\n",
       "        [ 0.0361717 ],\n",
       "        [ 0.2608855 ],\n",
       "        [-0.01444841],\n",
       "        [-0.03406901],\n",
       "        [-0.19473636],\n",
       "        [ 0.12347184],\n",
       "        [ 0.17783363],\n",
       "        [-0.16081367],\n",
       "        [-0.18508816],\n",
       "        [ 0.17875029],\n",
       "        [-0.08195485],\n",
       "        [ 0.0542434 ],\n",
       "        [-0.3532185 ],\n",
       "        [ 0.06562226],\n",
       "        [ 0.03040194],\n",
       "        [ 0.14731419],\n",
       "        [-0.19011267],\n",
       "        [-0.13285336],\n",
       "        [-0.00679919],\n",
       "        [ 0.28313655]], dtype=float32),\n",
       " array([-0.1268154], dtype=float32)]"
      ]
     },
     "execution_count": 7,
     "metadata": {},
     "output_type": "execute_result"
    }
   ],
   "source": [
    "file.get_weights()"
   ]
  },
  {
   "cell_type": "code",
   "execution_count": 9,
   "metadata": {},
   "outputs": [],
   "source": [
    "def decode_review(encoded_review):\n",
    "    return ' '.join([reverse_word_index.get(i,'?') for i in encoded_review])\n",
    "\n",
    "def process_review(review):\n",
    "    words=review.lower().split()\n",
    "    encoded_review=[word_index.get(word,2) +3 for word in words]\n",
    "    padded_review=pad_sequences([encoded_review],value=0,padding='pre',maxlen=500)\n",
    "    return padded_review"
   ]
  },
  {
   "cell_type": "code",
   "execution_count": 10,
   "metadata": {},
   "outputs": [],
   "source": [
    "def predict_sentiment(review):\n",
    "    preprocessed_review=process_review(review)\n",
    "    prediction=file.predict(preprocessed_review)\n",
    "    sentiment='positive' if prediction[0][0]>0.5 else 'negative'\n",
    "    return sentiment,prediction[0][0]"
   ]
  },
  {
   "cell_type": "code",
   "execution_count": null,
   "metadata": {},
   "outputs": [
    {
     "name": "stdout",
     "output_type": "stream",
     "text": [
      "\u001b[1m1/1\u001b[0m \u001b[32m━━━━━━━━━━━━━━━━━━━━\u001b[0m\u001b[37m\u001b[0m \u001b[1m0s\u001b[0m 32ms/step\n",
      "Review: The movie had some breathtaking visuals and a powerful soundtrack, but the storyline felt inconsistent. While the lead actor delivered a strong performance, some of the supporting characters lacked depth. The first half was engaging, but the second half dragged on. Overall, it's worth a watch, but don’t expect a masterpiece.\n",
      "sentiment: positive\n",
      "Prediction Score: 0.885765016078949\n"
     ]
    }
   ],
   "source": [
    "example=\"The movie had some breathtaking visuals and a powerful soundtrack, but the storyline felt inconsistent. While the lead actor delivered a strong performance, some of the supporting characters lacked depth. The first half was engaging, but the second half dragged on. Overall, it's worth a watch, but don’t expect a masterpiece.\"\n",
    "\n",
    "\n",
    "sentiment,score=predict_sentiment(example)\n",
    "\n",
    "print(f'Review: {example}')\n",
    "print(f'sentiment: {sentiment}')\n",
    "print(f'Prediction Score: {score}')"
   ]
  },
  {
   "cell_type": "code",
   "execution_count": null,
   "metadata": {},
   "outputs": [],
   "source": []
  }
 ],
 "metadata": {
  "kernelspec": {
   "display_name": "Python 3",
   "language": "python",
   "name": "python3"
  },
  "language_info": {
   "codemirror_mode": {
    "name": "ipython",
    "version": 3
   },
   "file_extension": ".py",
   "mimetype": "text/x-python",
   "name": "python",
   "nbconvert_exporter": "python",
   "pygments_lexer": "ipython3",
   "version": "3.10.16"
  }
 },
 "nbformat": 4,
 "nbformat_minor": 2
}
